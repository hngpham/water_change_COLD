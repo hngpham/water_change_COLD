{
 "cells": [
  {
   "cell_type": "code",
   "execution_count": 1,
   "metadata": {},
   "outputs": [
    {
     "name": "stderr",
     "output_type": "stream",
     "text": [
      "Loading /home/hpham/code/waterchange/config/../config.yaml.\n",
      "Config loaded successfully.\n",
      "Getting sorted paths to pixel data points.\n",
      "Processing folder: /home/hpham/data/geo/h016v012/TSFitLine\n",
      "Folder pattern: record_change_r*.mat\n",
      "Sort key: [-9, -4]\n",
      "Found 2000 files\n",
      "First and last directory in this folder                      \n",
      " /home/hpham/data/geo/h016v012/TSFitLine/record_change_r00001.mat                      \n",
      " /home/hpham/data/geo/h016v012/TSFitLine/record_change_r02000.mat\n",
      "Processing folder: /home/hpham/data/geo/h016v012/TSFitLine_1\n",
      "Folder pattern: record_change_r*.mat\n",
      "Sort key: [-9, -4]\n",
      "Found 3000 files\n",
      "First and last directory in this folder                      \n",
      " /home/hpham/data/geo/h016v012/TSFitLine_1/record_change_r02001.mat                      \n",
      " /home/hpham/data/geo/h016v012/TSFitLine_1/record_change_r05000.mat\n",
      "Found 5000 in COMBINED folder.\n",
      "First and last directory in COMBINED folders                 \n",
      " /home/hpham/data/geo/h016v012/TSFitLine/record_change_r00001.mat                 \n",
      " /home/hpham/data/geo/h016v012/TSFitLine_1/record_change_r05000.mat\n",
      "Found 14 regions.\n",
      "Indices of regions of interest: [0, 1, 6, 10, 11, 12, 13]\n",
      "Landsat data at /home/hpham/code/waterchange/landsat_1984_2000\n",
      "Output folder for data files: /home/hpham/code/waterchange/out_2_5/data\n",
      "Output folder for visualization files: /home/hpham/code/waterchange/out_2_5/viz\n"
     ]
    }
   ],
   "source": [
    "%load_ext autoreload\n",
    "%autoreload 2\n",
    "\n",
    "import sys\n",
    "import numpy as np\n",
    "\n",
    "from scipy import stats\n",
    "\n",
    "sys.path.append('/home/hpham/code')\n",
    "\n",
    "# Load the config.yaml to get all the directories\n",
    "from waterchange.config import read_config\n",
    "from waterchange.datasets import setup_directory\n",
    "config = read_config()\n",
    "input_data = setup_directory(config)"
   ]
  },
  {
   "cell_type": "code",
   "execution_count": 10,
   "metadata": {},
   "outputs": [
    {
     "name": "stderr",
     "output_type": "stream",
     "text": [
      "Training:\n",
      "Overall Accuracy: 0.8636796949475691 - [0.9421538461538461, 0.6595092024539877, 0.4489795918367347]\n",
      "Inference\n",
      "Overall Accuracy: 0.46380846325167036 - [0.953083109919571, 0.3081761006289308, 0.03278688524590164]\n",
      "Training:\n",
      "Overall Accuracy: 0.8195991091314031 - [0.843915343915344, 0.7315175097276264, 0.8323353293413174]\n",
      "Inference\n",
      "Overall Accuracy: 0.7452714320805699 - [0.9248305606900801, 0.03951367781155015, 0.03592814371257485]\n",
      "Training:\n",
      "Overall Accuracy: 0.8268292682926829 - [0.9083832335329342, 0.632420091324201, 0.6818181818181818]\n",
      "Inference\n",
      "Overall Accuracy: 0.6518624641833811 - [0.9558139534883721, 0.33884297520661155, 0.02040816326530612]\n",
      "Training:\n",
      "Overall Accuracy: 0.8231511254019293 - [0.9126040428061831, 0.6161369193154034, 0.6574307304785895]\n",
      "Inference\n",
      "Overall Accuracy: 0.6867862969004894 - [0.9809264305177112, 0.2760416666666667, 0.14814814814814814]\n",
      "Training:\n",
      "Overall Accuracy: 0.8342989571263036 - [0.9209919261822376, 0.6238938053097345, 0.6972704714640199]\n",
      "Inference\n",
      "Overall Accuracy: 0.6461038961038961 - [0.9943820224719101, 0.28, 0.01818181818181818]\n",
      "Training:\n",
      "Overall Accuracy: 0.8331445828614572 - [0.9085841694537347, 0.6337719298245614, 0.7218045112781954]\n",
      "Inference\n",
      "Overall Accuracy: 0.7380952380952381 - [0.9375, 0.0, 0.12]\n",
      "Training:\n",
      "Overall Accuracy: 0.8212579617834395 - [0.9042168674698795, 0.6556291390728477, 0.6641604010025063]\n",
      "Inference\n",
      "Overall Accuracy: 0.9074074074074074 - [0.939453125, 0.16666666666666666, 0.36363636363636365]\n"
     ]
    }
   ],
   "source": [
    "from waterchange.utils import get_logger\n",
    "from waterchange.models import predict_average_water_change_at_break_point\n",
    "get_logger(\"INFO\")\n",
    "\n",
    "res_train = []\n",
    "res_infer = []\n",
    "\n",
    "for index in input_data.rois:\n",
    "    infer_region_id = index\n",
    "    train_region_id = [x for x in input_data.rois if x != infer_region_id]\n",
    "    _, acc_train, acc_infer  = predict_average_water_change_at_break_point(\n",
    "    input_data,\n",
    "    sub_dir_in_train=\"water_coefs_break_point\",\n",
    "    train_region_id=train_region_id,\n",
    "    infer_region_id=infer_region_id)\n",
    "    res_train.append(acc_train)\n",
    "    res_infer.append(acc_infer)\n"
   ]
  },
  {
   "cell_type": "code",
   "execution_count": 12,
   "metadata": {},
   "outputs": [
    {
     "name": "stdout",
     "output_type": "stream",
     "text": [
      "Overall: 0.83 ± 0.01\n",
      "Class 0: 0.91 ± 0.03\n",
      "Class 1: 0.65 ± 0.04\n",
      "Class 2: 0.67 ± 0.11\n",
      "Overall: 0.69 ± 0.12\n",
      "Class 0: 0.96 ± 0.02\n",
      "Class 1: 0.20 ± 0.13\n",
      "Class 2: 0.11 ± 0.12\n"
     ]
    },
    {
     "data": {
      "text/plain": [
       "(array([0.6913336 , 0.95514131, 0.20132016, 0.10558422]),\n",
       " (array([ 0.56772684,  0.93221997,  0.07608603, -0.00996351]),\n",
       "  array([0.81494036, 0.97806266, 0.32655428, 0.22113195])))"
      ]
     },
     "execution_count": 12,
     "metadata": {},
     "output_type": "execute_result"
    }
   ],
   "source": [
    "from waterchange.models import acc_stat, cal_p_value\n",
    "acc_stat(res_train)\n",
    "acc_stat(res_infer)"
   ]
  },
  {
   "cell_type": "code",
   "execution_count": null,
   "metadata": {},
   "outputs": [],
   "source": [
    "\"\"\"\n",
    "With scaler\n",
    "Overall: 0.83 ± 0.01\n",
    "Class 0: 0.91 ± 0.03\n",
    "Class 1: 0.65 ± 0.04\n",
    "Class 2: 0.67 ± 0.11\n",
    "Overall: 0.69 ± 0.12\n",
    "Class 0: 0.96 ± 0.02\n",
    "Class 1: 0.20 ± 0.13\n",
    "Class 2: 0.11 ± 0.12\n",
    "\"\"\""
   ]
  }
 ],
 "metadata": {
  "kernelspec": {
   "display_name": "Python 3",
   "language": "python",
   "name": "python3"
  },
  "language_info": {
   "codemirror_mode": {
    "name": "ipython",
    "version": 3
   },
   "file_extension": ".py",
   "mimetype": "text/x-python",
   "name": "python",
   "nbconvert_exporter": "python",
   "pygments_lexer": "ipython3",
   "version": "3.8.10"
  }
 },
 "nbformat": 4,
 "nbformat_minor": 2
}
