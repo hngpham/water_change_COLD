{
 "cells": [
  {
   "cell_type": "code",
   "execution_count": null,
   "metadata": {},
   "outputs": [],
   "source": [
    "%load_ext autoreload\n",
    "%autoreload 2\n",
    "\n",
    "import sys\n",
    "\n",
    "from waterchange.config import read_config\n",
    "from waterchange.datasets import setup_directory\n",
    "from waterchange.utils import get_logger\n",
    "\n",
    "from waterchange.models import (\n",
    "    predict_average_water_index_all_pixels_from_first_coefs_all_bands_regression,\n",
    "    create_inference_map,\n",
    "    predict_average_water_change_at_break_point_from_trained_model,\n",
    "    predict_average_water_change_at_break_point,\n",
    "    acc_stat,\n",
    "    cal_p_value\n",
    ")\n",
    "\n",
    "# Add the custom path to the system path\n",
    "sys.path.append('/home/hpham/code')\n",
    "\n",
    "get_logger(\"error\")\n",
    "\n",
    "# Load the config.yaml to get all the directories\n",
    "config = read_config()\n",
    "input_data = setup_directory(config)"
   ]
  },
  {
   "cell_type": "markdown",
   "metadata": {},
   "source": [
    "# Predict water change at break points using trained regression model."
   ]
  },
  {
   "cell_type": "code",
   "execution_count": null,
   "metadata": {},
   "outputs": [],
   "source": [
    "# Train the regression model - single model\n",
    "infer_region_id = 1\n",
    "train_region_id = [x for x in input_data.rois if x != infer_region_id]\n",
    "logger = get_logger(\"Debug\")\n",
    "logger.info(f\"Train: {train_region_id}, test: {infer_region_id}\")\n",
    "\n",
    "df_infer, model = predict_average_water_index_all_pixels_from_first_coefs_all_bands_regression(\n",
    "    model_name=\"gradient_boosting\",\n",
    "    input_data=input_data,\n",
    "    sub_dir_in_train=\"water_coefs_in_period\",\n",
    "    sub_dir_in_infer_first_all=\"first_coefs_all_pixels_to_df\",\n",
    "    sub_dir_in_infer_in_period=\"water_coefs_in_period\",\n",
    "    train_region_id=train_region_id,\n",
    "    infer_region_id=infer_region_id)\n"
   ]
  },
  {
   "cell_type": "code",
   "execution_count": null,
   "metadata": {},
   "outputs": [],
   "source": [
    "get_logger(\"INFO\")\n",
    "\n",
    "res_infer = []\n",
    "\n",
    "train_region_id = [x for x in input_data.rois if x != infer_region_id]\n",
    "_, acc_infer, dist  = predict_average_water_change_at_break_point_from_trained_model(\n",
    "input_data,\n",
    "model,\n",
    "sub_dir_in_train=\"water_coefs_break_point\",\n",
    "infer_region_id=infer_region_id,\n",
    "threshold=0.2)\n",
    "\n",
    "res_infer.append(acc_infer)"
   ]
  },
  {
   "cell_type": "code",
   "execution_count": null,
   "metadata": {},
   "outputs": [],
   "source": [
    "# Cross validate\n",
    "logger = get_logger(\"debug\")\n",
    "\n",
    "threshold = 0.1\n",
    "\n",
    "res_infer = []\n",
    "distribution = []\n",
    "\n",
    "for infer_region_id in input_data.rois:\n",
    "    train_region_id = [x for x in input_data.rois if x != infer_region_id]\n",
    "    logger.info(f\"Train: {train_region_id}, test: {infer_region_id}\")\n",
    "\n",
    "    df_infer, model = predict_average_water_index_all_pixels_from_first_coefs_all_bands_regression(\n",
    "        model_name=\"gradient_boosting\",\n",
    "        input_data=input_data,\n",
    "        sub_dir_in_train=\"water_coefs_in_period\",\n",
    "        sub_dir_in_infer_first_all=\"first_coefs_all_pixels_to_df\",\n",
    "        sub_dir_in_infer_in_period=\"water_coefs_in_period\",\n",
    "        train_region_id=train_region_id,\n",
    "        infer_region_id=infer_region_id)\n",
    "\n",
    "    _, acc_infer, dist  = predict_average_water_change_at_break_point_from_trained_model(\n",
    "    input_data,\n",
    "    model,\n",
    "    sub_dir_in_train=\"water_coefs_break_point\",\n",
    "    infer_region_id=infer_region_id,\n",
    "    threshold=threshold)\n",
    "\n",
    "    distribution.append(dist)\n",
    "    res_infer.append(acc_infer)\n"
   ]
  },
  {
   "cell_type": "code",
   "execution_count": null,
   "metadata": {},
   "outputs": [],
   "source": [
    "res_infer"
   ]
  },
  {
   "cell_type": "code",
   "execution_count": null,
   "metadata": {},
   "outputs": [],
   "source": [
    "acc_stat(res_infer)"
   ]
  },
  {
   "cell_type": "code",
   "execution_count": null,
   "metadata": {},
   "outputs": [],
   "source": [
    "distribution"
   ]
  },
  {
   "cell_type": "code",
   "execution_count": null,
   "metadata": {},
   "outputs": [],
   "source": [
    "\"\"\"\n",
    "# Results\n",
    "threshold = 0.1\n",
    "Overall\t    0\t    1\t    2            %           unis\n",
    "0.6\t    0.445\t0.673\t0.725   (42,18,40)\t(746,318,732)\n",
    "0.437\t0.418\t0.536\t0.425   (80,16,4)   (3246,658,167)\n",
    "0.599\t0.57\t0.603\t0.68    (62,17,21)  (430,121,147)\n",
    "0.677\t0.624\t0.724\t0.87    (60,31,9)   (367,192,54)\n",
    "0.64\t0.573\t0.76\t0.691   (58,24,18)  (178,75,55)\n",
    "0.603\t0.594\t0.4\t    0.68    (76,4,20)   (96,5,25)\n",
    "0.822\t0.826\t0.5\t    0.818   (95,1,4)    (512,6,22)\n",
    "\n",
    "Regression              Classification\n",
    "Overall: 0.63 ± 0.11    0.69 ± 0.16\n",
    "Class 0: 0.58 ± 0.12    0.86 ± 0.15\n",
    "Class 1: 0.60 ± 0.12    0.35 ± 0.26\n",
    "Class 2: 0.70 ± 0.13    0.32 ± 0.19\n",
    "------------------------------\n",
    "threshold = 0.2\n",
    "Overall\t    0\t    1\t    2\n",
    "0.599\t0.607\t0.557\t0.599   (59,12,29)  (1067,210,519)\n",
    "0.702\t0.744\t0.406\t0.311   (88,10,2)   (3593,404,74)\n",
    "0.705\t0.734\t0.678\t0.53    (80,8,12)   (556,59,83)\n",
    "0.79\t0.825\t0.667\t0.789   (73,21,6)   (446,129,38)\n",
    "0.659\t0.673\t0.639\t0.6     (70,20,10)  (217,61,30)\n",
    "0.69\t0.759\t0.25\t0.286   (86,3,11)   (108,4,14)\n",
    "0.911\t0.925\t1\t    0.526   (96,0,4)    (520,1,19)\n",
    "\n",
    "Regression              Classification\n",
    "Overall: 0.72 ± 0.09    0.74 ± 0.15\n",
    "Class 0: 0.75 ± 0.09    0.83 ± 0.15\n",
    "Class 1: 0.60 ± 0.22    0.39 ± 0.28\n",
    "Class 2: 0.52 ± 0.16    0.32 ± 0.21\n",
    "-----------------------------\n",
    "threshold = 0.3\n",
    "Overall\t    0\t    1\t    2\n",
    "0.655\t0.71\t0.391\t0.493   (77,6,16) (1390,110,296)\n",
    "0.888\t0.932\t0.239\t0.229   (94,5,1) (3814,222,35)\n",
    "0.787\t0.827\t0.656\t0.385   (88,5,7) (614,32,52)\n",
    "0.86\t0.904\t0.646\t0.833   (80,16,4) (490,99,24)\n",
    "0.714\t0.756\t0.569\t0.286   (81,17,2) (250,51,7)\n",
    "0.833\t0.887\t0\t    0.3     (91,1,8) (115,1,10)\n",
    "0.944\t0.956\t1\t    0.417   (98,0,2) (527,1,12)\n",
    "\n",
    "Regression              Classification\n",
    "Overall: 0.81 ± 0.09    0.77 ± 0.14\n",
    "Class 0: 0.85 ± 0.09    0.82 ± 0.14\n",
    "Class 1: 0.50 ± 0.30    0.43 ± 0.30\n",
    "Class 2: 0.42 ± 0.19    0.31 ± 0.22\n",
    "\"\"\"\n"
   ]
  },
  {
   "cell_type": "markdown",
   "metadata": {},
   "source": [
    "# Predict water change using concatenate 112 coefficients"
   ]
  },
  {
   "cell_type": "code",
   "execution_count": null,
   "metadata": {},
   "outputs": [],
   "source": [
    "\n",
    "\n",
    "get_logger(\"INFO\")\n",
    "threshold = 0.3\n",
    "res_train = []\n",
    "res_infer = []\n",
    "distribution = []\n",
    "for index in input_data.rois:\n",
    "    infer_region_id = index\n",
    "    train_region_id = [x for x in input_data.rois if x != infer_region_id]\n",
    "    _, acc_train, acc_infer, dist  = predict_average_water_change_at_break_point(\n",
    "        input_data,\n",
    "        sub_dir_in_train=\"water_coefs_break_point\",\n",
    "        train_region_id=train_region_id,\n",
    "        infer_region_id=infer_region_id,\n",
    "        threshold=threshold)\n",
    "\n",
    "    res_train.append(acc_train)\n",
    "    res_infer.append(acc_infer)\n",
    "    distribution.append(dist)\n"
   ]
  },
  {
   "cell_type": "code",
   "execution_count": null,
   "metadata": {},
   "outputs": [],
   "source": [
    "acc_stat(res_infer)"
   ]
  },
  {
   "cell_type": "code",
   "execution_count": null,
   "metadata": {},
   "outputs": [],
   "source": [
    "distribution"
   ]
  },
  {
   "cell_type": "code",
   "execution_count": null,
   "metadata": {},
   "outputs": [],
   "source": [
    "\"\"\"\n",
    "With scaler           Without scaler\n",
    "Overall: 0.83 ± 0.01  Overall: 0.83 ± 0.01\n",
    "Class 0: 0.91 ± 0.03  Class 0: 0.91 ± 0.03\n",
    "Class 1: 0.65 ± 0.04  Class 1: 0.65 ± 0.04\n",
    "Class 2: 0.67 ± 0.11  Class 2: 0.67 ± 0.11\n",
    "Overall: 0.69 ± 0.12  Overall: 0.69 ± 0.16\n",
    "Class 0: 0.96 ± 0.02  Class 0: 0.86 ± 0.15\n",
    "Class 1: 0.20 ± 0.13  Class 1: 0.35 ± 0.26\n",
    "Class 2: 0.11 ± 0.12  Class 2: 0.32 ± 0.19\n",
    "\"\"\""
   ]
  }
 ],
 "metadata": {
  "kernelspec": {
   "display_name": "Python 3",
   "language": "python",
   "name": "python3"
  },
  "language_info": {
   "codemirror_mode": {
    "name": "ipython",
    "version": 3
   },
   "file_extension": ".py",
   "mimetype": "text/x-python",
   "name": "python",
   "nbconvert_exporter": "python",
   "pygments_lexer": "ipython3",
   "version": "3.8.10"
  }
 },
 "nbformat": 4,
 "nbformat_minor": 2
}
