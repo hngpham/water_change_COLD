{
 "cells": [
  {
   "cell_type": "code",
   "execution_count": null,
   "metadata": {},
   "outputs": [],
   "source": [
    "%load_ext autoreload\n",
    "%autoreload 2\n",
    "\n",
    "import sys\n",
    "\n",
    "from waterchange.config import read_config\n",
    "from waterchange.datasets import setup_directory\n",
    "from waterchange.utils import get_logger\n",
    "from waterchange.models import (\n",
    "    predict_average_water_index_all_pixels_from_first_coefs_all_bands_regression,\n",
    "    create_inference_map\n",
    ")\n",
    "\n",
    "sys.path.append('/home/hpham/code')\n",
    "\n",
    "# Load the config.yaml to get all the directories\n",
    "\n",
    "get_logger(\"error\")\n",
    "config = read_config()\n",
    "input_data = setup_directory(config)"
   ]
  },
  {
   "cell_type": "code",
   "execution_count": null,
   "metadata": {},
   "outputs": [],
   "source": [
    "infer_region_id = 6\n",
    "train_region_id = [x for x in input_data.rois if x != infer_region_id]\n",
    "logger = get_logger(\"Debug\")\n",
    "logger.info(f\"Train: {train_region_id}, test: {infer_region_id}\")\n",
    "\n",
    "df_infer, model, nmse = predict_average_water_index_all_pixels_from_first_coefs_all_bands_regression(\n",
    "    model_name=\"gradient_boosting\",\n",
    "    input_data=input_data,\n",
    "    sub_dir_in_train=\"water_coefs_in_period\",\n",
    "    sub_dir_in_infer_first_all=\"first_coefs_all_pixels_to_df\",\n",
    "    sub_dir_in_infer_in_period=\"water_coefs_in_period\",\n",
    "    train_region_id=train_region_id,\n",
    "    infer_region_id=infer_region_id)"
   ]
  },
  {
   "cell_type": "code",
   "execution_count": null,
   "metadata": {},
   "outputs": [],
   "source": [
    "create_inference_map(\n",
    "    input_data,\n",
    "    sub_dir_out=\"predict_index_green_white_regression\",\n",
    "    region_id=infer_region_id,\n",
    "    inference_df=df_infer,\n",
    "    # encoded_colors = {0: '#006400', 1: 'red', 2: 'blue', 3: 'green', 4: '#FF7F7F', 5: '#0856ff'},\n",
    "    # encoded_colors = {0: '#70534f', 1: 'green', 2: 'blue', 3: '#8b4c4c', 4: 'white', 5: '#0856ff'},\n",
    "    encoded_colors = {0: '#533b31', 1: 'blue', 3: '#8b4c4c', 4: '#0856ff', 5: 'white', 8: 'red'},\n",
    "    # empty_index=3,\n",
    "    empty_index=5, # Empty pixels\n",
    "\n",
    "    )"
   ]
  }
 ],
 "metadata": {
  "kernelspec": {
   "display_name": "Python 3",
   "language": "python",
   "name": "python3"
  },
  "language_info": {
   "codemirror_mode": {
    "name": "ipython",
    "version": 3
   },
   "file_extension": ".py",
   "mimetype": "text/x-python",
   "name": "python",
   "nbconvert_exporter": "python",
   "pygments_lexer": "ipython3",
   "version": "3.8.10"
  }
 },
 "nbformat": 4,
 "nbformat_minor": 2
}
